{
 "cells": [
  {
   "cell_type": "code",
   "execution_count": 1,
   "id": "4e4e6d9d-b4c2-44d9-8f01-8e3a1613969f",
   "metadata": {},
   "outputs": [],
   "source": [
    "import numpy as np\n",
    "from nltk.tokenize import RegexpTokenizer\n",
    "import matplotlib.pyplot as plt\n",
    "import pickle\n",
    "import heapq\n",
    "import os"
   ]
  },
  {
   "cell_type": "code",
   "execution_count": 2,
   "id": "94a676b1-1fb2-4c5b-8756-22e64746e455",
   "metadata": {},
   "outputs": [],
   "source": [
    "from keras.models import Sequential, load_model\n",
    "from keras.layers import LSTM, Dense, Activation\n",
    "from keras.optimizers import RMSprop"
   ]
  },
  {
   "cell_type": "code",
   "execution_count": 3,
   "id": "2c8d28e4-aedd-4616-8730-22bbd9198023",
   "metadata": {},
   "outputs": [],
   "source": [
    "path=r'E:\\notes\\LetsGrowMore\\Task04-NextWordPrediction'\n",
    "os.chdir(path)"
   ]
  },
  {
   "cell_type": "code",
   "execution_count": 4,
   "id": "73beeb0c-9f66-40fc-b179-2278e10cb255",
   "metadata": {},
   "outputs": [
    {
     "name": "stdout",
     "output_type": "stream",
     "text": [
      "corpus length: 581888\n"
     ]
    }
   ],
   "source": [
    "path = r'E:\\notes\\LetsGrowMore\\Task04-NextWordPrediction\\1661-0.txt'\n",
    "with open(path, 'r', encoding='utf-8') as file:\n",
    "    text = file.read().lower()\n",
    "print('corpus length:', len(text))"
   ]
  },
  {
   "cell_type": "code",
   "execution_count": 5,
   "id": "e4504f1d-1e83-4fa3-ac53-300dad89dee2",
   "metadata": {},
   "outputs": [],
   "source": [
    "import re\n",
    "# Remove unwanted characters\n",
    "text = re.sub(r'[^a-zA-Z\\s]', '', text)"
   ]
  },
  {
   "cell_type": "code",
   "execution_count": 6,
   "id": "beb6b129-bb1c-4e83-bf46-5be08bd5ae14",
   "metadata": {},
   "outputs": [],
   "source": [
    "import tensorflow as tf\n",
    "from tensorflow.keras.preprocessing.text import Tokenizer\n",
    "from tensorflow.keras.preprocessing.sequence import pad_sequences\n",
    "tokenizer = Tokenizer()\n",
    "tokenizer.fit_on_texts([text])\n",
    "total_words = len(tokenizer.word_index) + 1"
   ]
  },
  {
   "cell_type": "code",
   "execution_count": 7,
   "id": "68224087-ee04-4193-b4a9-1788787ace9e",
   "metadata": {},
   "outputs": [],
   "source": [
    "input_sequences = []\n",
    "for line in text.split('\\n'):\n",
    "    token_list = tokenizer.texts_to_sequences([line])[0]\n",
    "    for i in range(1, len(token_list)):\n",
    "        n_gram_sequence = token_list[:i+1]\n",
    "        input_sequences.append(n_gram_sequence)\n",
    "# Pad the sequences to ensure uniform input length\n",
    "max_sequence_len = max([len(x) for x in input_sequences])\n",
    "input_sequences = np.array(pad_sequences(input_sequences, maxlen=max_sequence_len, padding='pre'))"
   ]
  },
  {
   "cell_type": "code",
   "execution_count": 8,
   "id": "654bff2e-0a49-4955-b79c-ee89266c2e99",
   "metadata": {},
   "outputs": [
    {
     "name": "stderr",
     "output_type": "stream",
     "text": [
      "C:\\Users\\Souymo Tewari\\AppData\\Roaming\\Python\\Python312\\site-packages\\keras\\src\\layers\\core\\embedding.py:90: UserWarning: Argument `input_length` is deprecated. Just remove it.\n",
      "  warnings.warn(\n"
     ]
    },
    {
     "name": "stdout",
     "output_type": "stream",
     "text": [
      "Epoch 1/100\n",
      "\u001b[1m3057/3057\u001b[0m \u001b[32m━━━━━━━━━━━━━━━━━━━━\u001b[0m\u001b[37m\u001b[0m \u001b[1m81s\u001b[0m 25ms/step - accuracy: 0.0617 - loss: 6.5466\n",
      "Epoch 2/100\n",
      "\u001b[1m3057/3057\u001b[0m \u001b[32m━━━━━━━━━━━━━━━━━━━━\u001b[0m\u001b[37m\u001b[0m \u001b[1m75s\u001b[0m 24ms/step - accuracy: 0.1127 - loss: 5.6920\n",
      "Epoch 3/100\n",
      "\u001b[1m3057/3057\u001b[0m \u001b[32m━━━━━━━━━━━━━━━━━━━━\u001b[0m\u001b[37m\u001b[0m \u001b[1m74s\u001b[0m 24ms/step - accuracy: 0.1391 - loss: 5.3361\n",
      "Epoch 4/100\n",
      "\u001b[1m3057/3057\u001b[0m \u001b[32m━━━━━━━━━━━━━━━━━━━━\u001b[0m\u001b[37m\u001b[0m \u001b[1m73s\u001b[0m 24ms/step - accuracy: 0.1567 - loss: 5.0478\n",
      "Epoch 5/100\n",
      "\u001b[1m3057/3057\u001b[0m \u001b[32m━━━━━━━━━━━━━━━━━━━━\u001b[0m\u001b[37m\u001b[0m \u001b[1m73s\u001b[0m 24ms/step - accuracy: 0.1690 - loss: 4.7947\n",
      "Epoch 6/100\n",
      "\u001b[1m3057/3057\u001b[0m \u001b[32m━━━━━━━━━━━━━━━━━━━━\u001b[0m\u001b[37m\u001b[0m \u001b[1m73s\u001b[0m 24ms/step - accuracy: 0.1839 - loss: 4.5408\n",
      "Epoch 7/100\n",
      "\u001b[1m3057/3057\u001b[0m \u001b[32m━━━━━━━━━━━━━━━━━━━━\u001b[0m\u001b[37m\u001b[0m \u001b[1m74s\u001b[0m 24ms/step - accuracy: 0.2042 - loss: 4.3054\n",
      "Epoch 8/100\n",
      "\u001b[1m3057/3057\u001b[0m \u001b[32m━━━━━━━━━━━━━━━━━━━━\u001b[0m\u001b[37m\u001b[0m \u001b[1m74s\u001b[0m 24ms/step - accuracy: 0.2214 - loss: 4.0690\n",
      "Epoch 9/100\n",
      "\u001b[1m3057/3057\u001b[0m \u001b[32m━━━━━━━━━━━━━━━━━━━━\u001b[0m\u001b[37m\u001b[0m \u001b[1m74s\u001b[0m 24ms/step - accuracy: 0.2448 - loss: 3.8595\n",
      "Epoch 10/100\n",
      "\u001b[1m3057/3057\u001b[0m \u001b[32m━━━━━━━━━━━━━━━━━━━━\u001b[0m\u001b[37m\u001b[0m \u001b[1m73s\u001b[0m 24ms/step - accuracy: 0.2681 - loss: 3.6644\n",
      "Epoch 11/100\n",
      "\u001b[1m3057/3057\u001b[0m \u001b[32m━━━━━━━━━━━━━━━━━━━━\u001b[0m\u001b[37m\u001b[0m \u001b[1m73s\u001b[0m 24ms/step - accuracy: 0.2925 - loss: 3.4735\n",
      "Epoch 12/100\n",
      "\u001b[1m3057/3057\u001b[0m \u001b[32m━━━━━━━━━━━━━━━━━━━━\u001b[0m\u001b[37m\u001b[0m \u001b[1m72s\u001b[0m 24ms/step - accuracy: 0.3166 - loss: 3.2908\n",
      "Epoch 13/100\n",
      "\u001b[1m3057/3057\u001b[0m \u001b[32m━━━━━━━━━━━━━━━━━━━━\u001b[0m\u001b[37m\u001b[0m \u001b[1m73s\u001b[0m 24ms/step - accuracy: 0.3401 - loss: 3.1333\n",
      "Epoch 14/100\n",
      "\u001b[1m3057/3057\u001b[0m \u001b[32m━━━━━━━━━━━━━━━━━━━━\u001b[0m\u001b[37m\u001b[0m \u001b[1m72s\u001b[0m 24ms/step - accuracy: 0.3671 - loss: 2.9768\n",
      "Epoch 15/100\n",
      "\u001b[1m3057/3057\u001b[0m \u001b[32m━━━━━━━━━━━━━━━━━━━━\u001b[0m\u001b[37m\u001b[0m \u001b[1m73s\u001b[0m 24ms/step - accuracy: 0.3908 - loss: 2.8447\n",
      "Epoch 16/100\n",
      "\u001b[1m3057/3057\u001b[0m \u001b[32m━━━━━━━━━━━━━━━━━━━━\u001b[0m\u001b[37m\u001b[0m \u001b[1m74s\u001b[0m 24ms/step - accuracy: 0.4125 - loss: 2.7138\n",
      "Epoch 17/100\n",
      "\u001b[1m3057/3057\u001b[0m \u001b[32m━━━━━━━━━━━━━━━━━━━━\u001b[0m\u001b[37m\u001b[0m \u001b[1m74s\u001b[0m 24ms/step - accuracy: 0.4294 - loss: 2.6084\n",
      "Epoch 18/100\n",
      "\u001b[1m3057/3057\u001b[0m \u001b[32m━━━━━━━━━━━━━━━━━━━━\u001b[0m\u001b[37m\u001b[0m \u001b[1m74s\u001b[0m 24ms/step - accuracy: 0.4487 - loss: 2.4880\n",
      "Epoch 19/100\n",
      "\u001b[1m3057/3057\u001b[0m \u001b[32m━━━━━━━━━━━━━━━━━━━━\u001b[0m\u001b[37m\u001b[0m \u001b[1m72s\u001b[0m 24ms/step - accuracy: 0.4646 - loss: 2.3991\n",
      "Epoch 20/100\n",
      "\u001b[1m3057/3057\u001b[0m \u001b[32m━━━━━━━━━━━━━━━━━━━━\u001b[0m\u001b[37m\u001b[0m \u001b[1m65s\u001b[0m 21ms/step - accuracy: 0.4811 - loss: 2.3252\n",
      "Epoch 21/100\n",
      "\u001b[1m3057/3057\u001b[0m \u001b[32m━━━━━━━━━━━━━━━━━━━━\u001b[0m\u001b[37m\u001b[0m \u001b[1m66s\u001b[0m 21ms/step - accuracy: 0.4948 - loss: 2.2353\n",
      "Epoch 22/100\n",
      "\u001b[1m3057/3057\u001b[0m \u001b[32m━━━━━━━━━━━━━━━━━━━━\u001b[0m\u001b[37m\u001b[0m \u001b[1m66s\u001b[0m 22ms/step - accuracy: 0.5118 - loss: 2.1531\n",
      "Epoch 23/100\n",
      "\u001b[1m3057/3057\u001b[0m \u001b[32m━━━━━━━━━━━━━━━━━━━━\u001b[0m\u001b[37m\u001b[0m \u001b[1m69s\u001b[0m 23ms/step - accuracy: 0.5254 - loss: 2.0837\n",
      "Epoch 24/100\n",
      "\u001b[1m3057/3057\u001b[0m \u001b[32m━━━━━━━━━━━━━━━━━━━━\u001b[0m\u001b[37m\u001b[0m \u001b[1m70s\u001b[0m 23ms/step - accuracy: 0.5343 - loss: 2.0289\n",
      "Epoch 25/100\n",
      "\u001b[1m3057/3057\u001b[0m \u001b[32m━━━━━━━━━━━━━━━━━━━━\u001b[0m\u001b[37m\u001b[0m \u001b[1m68s\u001b[0m 22ms/step - accuracy: 0.5482 - loss: 1.9703\n",
      "Epoch 26/100\n",
      "\u001b[1m3057/3057\u001b[0m \u001b[32m━━━━━━━━━━━━━━━━━━━━\u001b[0m\u001b[37m\u001b[0m \u001b[1m67s\u001b[0m 22ms/step - accuracy: 0.5590 - loss: 1.9155\n",
      "Epoch 27/100\n",
      "\u001b[1m3057/3057\u001b[0m \u001b[32m━━━━━━━━━━━━━━━━━━━━\u001b[0m\u001b[37m\u001b[0m \u001b[1m68s\u001b[0m 22ms/step - accuracy: 0.5710 - loss: 1.8606\n",
      "Epoch 28/100\n",
      "\u001b[1m3057/3057\u001b[0m \u001b[32m━━━━━━━━━━━━━━━━━━━━\u001b[0m\u001b[37m\u001b[0m \u001b[1m67s\u001b[0m 22ms/step - accuracy: 0.5794 - loss: 1.8136\n",
      "Epoch 29/100\n",
      "\u001b[1m3057/3057\u001b[0m \u001b[32m━━━━━━━━━━━━━━━━━━━━\u001b[0m\u001b[37m\u001b[0m \u001b[1m68s\u001b[0m 22ms/step - accuracy: 0.5842 - loss: 1.7864\n",
      "Epoch 30/100\n",
      "\u001b[1m3057/3057\u001b[0m \u001b[32m━━━━━━━━━━━━━━━━━━━━\u001b[0m\u001b[37m\u001b[0m \u001b[1m68s\u001b[0m 22ms/step - accuracy: 0.5919 - loss: 1.7428\n",
      "Epoch 31/100\n",
      "\u001b[1m3057/3057\u001b[0m \u001b[32m━━━━━━━━━━━━━━━━━━━━\u001b[0m\u001b[37m\u001b[0m \u001b[1m70s\u001b[0m 23ms/step - accuracy: 0.5968 - loss: 1.7213\n",
      "Epoch 32/100\n",
      "\u001b[1m3057/3057\u001b[0m \u001b[32m━━━━━━━━━━━━━━━━━━━━\u001b[0m\u001b[37m\u001b[0m \u001b[1m71s\u001b[0m 23ms/step - accuracy: 0.6066 - loss: 1.6645\n",
      "Epoch 33/100\n",
      "\u001b[1m3057/3057\u001b[0m \u001b[32m━━━━━━━━━━━━━━━━━━━━\u001b[0m\u001b[37m\u001b[0m \u001b[1m70s\u001b[0m 23ms/step - accuracy: 0.6147 - loss: 1.6333\n",
      "Epoch 34/100\n",
      "\u001b[1m3057/3057\u001b[0m \u001b[32m━━━━━━━━━━━━━━━━━━━━\u001b[0m\u001b[37m\u001b[0m \u001b[1m74s\u001b[0m 24ms/step - accuracy: 0.6208 - loss: 1.5984\n",
      "Epoch 35/100\n",
      "\u001b[1m3057/3057\u001b[0m \u001b[32m━━━━━━━━━━━━━━━━━━━━\u001b[0m\u001b[37m\u001b[0m \u001b[1m89s\u001b[0m 29ms/step - accuracy: 0.6247 - loss: 1.5764\n",
      "Epoch 36/100\n",
      "\u001b[1m3057/3057\u001b[0m \u001b[32m━━━━━━━━━━━━━━━━━━━━\u001b[0m\u001b[37m\u001b[0m \u001b[1m85s\u001b[0m 28ms/step - accuracy: 0.6311 - loss: 1.5479\n",
      "Epoch 37/100\n",
      "\u001b[1m3057/3057\u001b[0m \u001b[32m━━━━━━━━━━━━━━━━━━━━\u001b[0m\u001b[37m\u001b[0m \u001b[1m87s\u001b[0m 29ms/step - accuracy: 0.6331 - loss: 1.5359\n",
      "Epoch 38/100\n",
      "\u001b[1m3057/3057\u001b[0m \u001b[32m━━━━━━━━━━━━━━━━━━━━\u001b[0m\u001b[37m\u001b[0m \u001b[1m87s\u001b[0m 29ms/step - accuracy: 0.6397 - loss: 1.5082\n",
      "Epoch 39/100\n",
      "\u001b[1m3057/3057\u001b[0m \u001b[32m━━━━━━━━━━━━━━━━━━━━\u001b[0m\u001b[37m\u001b[0m \u001b[1m89s\u001b[0m 29ms/step - accuracy: 0.6425 - loss: 1.4874\n",
      "Epoch 40/100\n",
      "\u001b[1m3057/3057\u001b[0m \u001b[32m━━━━━━━━━━━━━━━━━━━━\u001b[0m\u001b[37m\u001b[0m \u001b[1m86s\u001b[0m 28ms/step - accuracy: 0.6459 - loss: 1.4733\n",
      "Epoch 41/100\n",
      "\u001b[1m3057/3057\u001b[0m \u001b[32m━━━━━━━━━━━━━━━━━━━━\u001b[0m\u001b[37m\u001b[0m \u001b[1m77s\u001b[0m 25ms/step - accuracy: 0.6502 - loss: 1.4506\n",
      "Epoch 42/100\n",
      "\u001b[1m3057/3057\u001b[0m \u001b[32m━━━━━━━━━━━━━━━━━━━━\u001b[0m\u001b[37m\u001b[0m \u001b[1m76s\u001b[0m 25ms/step - accuracy: 0.6573 - loss: 1.4209\n",
      "Epoch 43/100\n",
      "\u001b[1m3057/3057\u001b[0m \u001b[32m━━━━━━━━━━━━━━━━━━━━\u001b[0m\u001b[37m\u001b[0m \u001b[1m82s\u001b[0m 27ms/step - accuracy: 0.6573 - loss: 1.4242\n",
      "Epoch 44/100\n",
      "\u001b[1m3057/3057\u001b[0m \u001b[32m━━━━━━━━━━━━━━━━━━━━\u001b[0m\u001b[37m\u001b[0m \u001b[1m76s\u001b[0m 25ms/step - accuracy: 0.6638 - loss: 1.3953\n",
      "Epoch 45/100\n",
      "\u001b[1m3057/3057\u001b[0m \u001b[32m━━━━━━━━━━━━━━━━━━━━\u001b[0m\u001b[37m\u001b[0m \u001b[1m80s\u001b[0m 26ms/step - accuracy: 0.6671 - loss: 1.3734\n",
      "Epoch 46/100\n",
      "\u001b[1m3057/3057\u001b[0m \u001b[32m━━━━━━━━━━━━━━━━━━━━\u001b[0m\u001b[37m\u001b[0m \u001b[1m80s\u001b[0m 26ms/step - accuracy: 0.6707 - loss: 1.3554\n",
      "Epoch 47/100\n",
      "\u001b[1m3057/3057\u001b[0m \u001b[32m━━━━━━━━━━━━━━━━━━━━\u001b[0m\u001b[37m\u001b[0m \u001b[1m83s\u001b[0m 27ms/step - accuracy: 0.6690 - loss: 1.3600\n",
      "Epoch 48/100\n",
      "\u001b[1m3057/3057\u001b[0m \u001b[32m━━━━━━━━━━━━━━━━━━━━\u001b[0m\u001b[37m\u001b[0m \u001b[1m88s\u001b[0m 29ms/step - accuracy: 0.6741 - loss: 1.3430\n",
      "Epoch 49/100\n",
      "\u001b[1m3057/3057\u001b[0m \u001b[32m━━━━━━━━━━━━━━━━━━━━\u001b[0m\u001b[37m\u001b[0m \u001b[1m81s\u001b[0m 26ms/step - accuracy: 0.6765 - loss: 1.3350\n",
      "Epoch 50/100\n",
      "\u001b[1m3057/3057\u001b[0m \u001b[32m━━━━━━━━━━━━━━━━━━━━\u001b[0m\u001b[37m\u001b[0m \u001b[1m81s\u001b[0m 26ms/step - accuracy: 0.6794 - loss: 1.3156\n",
      "Epoch 51/100\n",
      "\u001b[1m3057/3057\u001b[0m \u001b[32m━━━━━━━━━━━━━━━━━━━━\u001b[0m\u001b[37m\u001b[0m \u001b[1m79s\u001b[0m 26ms/step - accuracy: 0.6806 - loss: 1.3058\n",
      "Epoch 52/100\n",
      "\u001b[1m3057/3057\u001b[0m \u001b[32m━━━━━━━━━━━━━━━━━━━━\u001b[0m\u001b[37m\u001b[0m \u001b[1m79s\u001b[0m 26ms/step - accuracy: 0.6834 - loss: 1.2944\n",
      "Epoch 53/100\n",
      "\u001b[1m3057/3057\u001b[0m \u001b[32m━━━━━━━━━━━━━━━━━━━━\u001b[0m\u001b[37m\u001b[0m \u001b[1m81s\u001b[0m 26ms/step - accuracy: 0.6868 - loss: 1.2773\n",
      "Epoch 54/100\n",
      "\u001b[1m3057/3057\u001b[0m \u001b[32m━━━━━━━━━━━━━━━━━━━━\u001b[0m\u001b[37m\u001b[0m \u001b[1m80s\u001b[0m 26ms/step - accuracy: 0.6861 - loss: 1.2723\n",
      "Epoch 55/100\n",
      "\u001b[1m3057/3057\u001b[0m \u001b[32m━━━━━━━━━━━━━━━━━━━━\u001b[0m\u001b[37m\u001b[0m \u001b[1m80s\u001b[0m 26ms/step - accuracy: 0.6902 - loss: 1.2666\n",
      "Epoch 56/100\n",
      "\u001b[1m3057/3057\u001b[0m \u001b[32m━━━━━━━━━━━━━━━━━━━━\u001b[0m\u001b[37m\u001b[0m \u001b[1m80s\u001b[0m 26ms/step - accuracy: 0.6903 - loss: 1.2607\n",
      "Epoch 57/100\n",
      "\u001b[1m3057/3057\u001b[0m \u001b[32m━━━━━━━━━━━━━━━━━━━━\u001b[0m\u001b[37m\u001b[0m \u001b[1m83s\u001b[0m 27ms/step - accuracy: 0.6927 - loss: 1.2508\n",
      "Epoch 58/100\n",
      "\u001b[1m3057/3057\u001b[0m \u001b[32m━━━━━━━━━━━━━━━━━━━━\u001b[0m\u001b[37m\u001b[0m \u001b[1m82s\u001b[0m 27ms/step - accuracy: 0.6958 - loss: 1.2387\n",
      "Epoch 59/100\n",
      "\u001b[1m3057/3057\u001b[0m \u001b[32m━━━━━━━━━━━━━━━━━━━━\u001b[0m\u001b[37m\u001b[0m \u001b[1m79s\u001b[0m 26ms/step - accuracy: 0.6963 - loss: 1.2381\n",
      "Epoch 60/100\n",
      "\u001b[1m3057/3057\u001b[0m \u001b[32m━━━━━━━━━━━━━━━━━━━━\u001b[0m\u001b[37m\u001b[0m \u001b[1m74s\u001b[0m 24ms/step - accuracy: 0.6996 - loss: 1.2219\n",
      "Epoch 61/100\n",
      "\u001b[1m3057/3057\u001b[0m \u001b[32m━━━━━━━━━━━━━━━━━━━━\u001b[0m\u001b[37m\u001b[0m \u001b[1m75s\u001b[0m 24ms/step - accuracy: 0.7014 - loss: 1.2073\n",
      "Epoch 62/100\n",
      "\u001b[1m3057/3057\u001b[0m \u001b[32m━━━━━━━━━━━━━━━━━━━━\u001b[0m\u001b[37m\u001b[0m \u001b[1m79s\u001b[0m 26ms/step - accuracy: 0.6971 - loss: 1.2253\n",
      "Epoch 63/100\n",
      "\u001b[1m3057/3057\u001b[0m \u001b[32m━━━━━━━━━━━━━━━━━━━━\u001b[0m\u001b[37m\u001b[0m \u001b[1m76s\u001b[0m 25ms/step - accuracy: 0.6993 - loss: 1.2148\n",
      "Epoch 64/100\n",
      "\u001b[1m3057/3057\u001b[0m \u001b[32m━━━━━━━━━━━━━━━━━━━━\u001b[0m\u001b[37m\u001b[0m \u001b[1m79s\u001b[0m 26ms/step - accuracy: 0.7023 - loss: 1.2015\n",
      "Epoch 65/100\n",
      "\u001b[1m3057/3057\u001b[0m \u001b[32m━━━━━━━━━━━━━━━━━━━━\u001b[0m\u001b[37m\u001b[0m \u001b[1m74s\u001b[0m 24ms/step - accuracy: 0.7070 - loss: 1.1830\n",
      "Epoch 66/100\n",
      "\u001b[1m3057/3057\u001b[0m \u001b[32m━━━━━━━━━━━━━━━━━━━━\u001b[0m\u001b[37m\u001b[0m \u001b[1m77s\u001b[0m 25ms/step - accuracy: 0.7074 - loss: 1.1854\n",
      "Epoch 67/100\n",
      "\u001b[1m3057/3057\u001b[0m \u001b[32m━━━━━━━━━━━━━━━━━━━━\u001b[0m\u001b[37m\u001b[0m \u001b[1m79s\u001b[0m 26ms/step - accuracy: 0.7052 - loss: 1.1812\n",
      "Epoch 68/100\n",
      "\u001b[1m3057/3057\u001b[0m \u001b[32m━━━━━━━━━━━━━━━━━━━━\u001b[0m\u001b[37m\u001b[0m \u001b[1m75s\u001b[0m 25ms/step - accuracy: 0.7095 - loss: 1.1748\n",
      "Epoch 69/100\n",
      "\u001b[1m3057/3057\u001b[0m \u001b[32m━━━━━━━━━━━━━━━━━━━━\u001b[0m\u001b[37m\u001b[0m \u001b[1m72s\u001b[0m 24ms/step - accuracy: 0.7070 - loss: 1.1724\n",
      "Epoch 70/100\n",
      "\u001b[1m3057/3057\u001b[0m \u001b[32m━━━━━━━━━━━━━━━━━━━━\u001b[0m\u001b[37m\u001b[0m \u001b[1m73s\u001b[0m 24ms/step - accuracy: 0.7117 - loss: 1.1652\n",
      "Epoch 71/100\n",
      "\u001b[1m3057/3057\u001b[0m \u001b[32m━━━━━━━━━━━━━━━━━━━━\u001b[0m\u001b[37m\u001b[0m \u001b[1m71s\u001b[0m 23ms/step - accuracy: 0.7114 - loss: 1.1630\n",
      "Epoch 72/100\n",
      "\u001b[1m3057/3057\u001b[0m \u001b[32m━━━━━━━━━━━━━━━━━━━━\u001b[0m\u001b[37m\u001b[0m \u001b[1m71s\u001b[0m 23ms/step - accuracy: 0.7160 - loss: 1.1499\n",
      "Epoch 73/100\n",
      "\u001b[1m3057/3057\u001b[0m \u001b[32m━━━━━━━━━━━━━━━━━━━━\u001b[0m\u001b[37m\u001b[0m \u001b[1m71s\u001b[0m 23ms/step - accuracy: 0.7119 - loss: 1.1608\n",
      "Epoch 74/100\n",
      "\u001b[1m3057/3057\u001b[0m \u001b[32m━━━━━━━━━━━━━━━━━━━━\u001b[0m\u001b[37m\u001b[0m \u001b[1m74s\u001b[0m 24ms/step - accuracy: 0.7109 - loss: 1.1625\n",
      "Epoch 75/100\n",
      "\u001b[1m3057/3057\u001b[0m \u001b[32m━━━━━━━━━━━━━━━━━━━━\u001b[0m\u001b[37m\u001b[0m \u001b[1m76s\u001b[0m 25ms/step - accuracy: 0.7161 - loss: 1.1442\n",
      "Epoch 76/100\n",
      "\u001b[1m3057/3057\u001b[0m \u001b[32m━━━━━━━━━━━━━━━━━━━━\u001b[0m\u001b[37m\u001b[0m \u001b[1m79s\u001b[0m 26ms/step - accuracy: 0.7189 - loss: 1.1380\n",
      "Epoch 77/100\n",
      "\u001b[1m3057/3057\u001b[0m \u001b[32m━━━━━━━━━━━━━━━━━━━━\u001b[0m\u001b[37m\u001b[0m \u001b[1m84s\u001b[0m 27ms/step - accuracy: 0.7133 - loss: 1.1419\n",
      "Epoch 78/100\n",
      "\u001b[1m3057/3057\u001b[0m \u001b[32m━━━━━━━━━━━━━━━━━━━━\u001b[0m\u001b[37m\u001b[0m \u001b[1m75s\u001b[0m 24ms/step - accuracy: 0.7150 - loss: 1.1419\n",
      "Epoch 79/100\n",
      "\u001b[1m3057/3057\u001b[0m \u001b[32m━━━━━━━━━━━━━━━━━━━━\u001b[0m\u001b[37m\u001b[0m \u001b[1m73s\u001b[0m 24ms/step - accuracy: 0.7189 - loss: 1.1316\n",
      "Epoch 80/100\n",
      "\u001b[1m3057/3057\u001b[0m \u001b[32m━━━━━━━━━━━━━━━━━━━━\u001b[0m\u001b[37m\u001b[0m \u001b[1m76s\u001b[0m 25ms/step - accuracy: 0.7162 - loss: 1.1299\n",
      "Epoch 81/100\n",
      "\u001b[1m3057/3057\u001b[0m \u001b[32m━━━━━━━━━━━━━━━━━━━━\u001b[0m\u001b[37m\u001b[0m \u001b[1m81s\u001b[0m 27ms/step - accuracy: 0.7180 - loss: 1.1330\n",
      "Epoch 82/100\n",
      "\u001b[1m3057/3057\u001b[0m \u001b[32m━━━━━━━━━━━━━━━━━━━━\u001b[0m\u001b[37m\u001b[0m \u001b[1m83s\u001b[0m 27ms/step - accuracy: 0.7249 - loss: 1.1049\n",
      "Epoch 89/100\n",
      "\u001b[1m3057/3057\u001b[0m \u001b[32m━━━━━━━━━━━━━━━━━━━━\u001b[0m\u001b[37m\u001b[0m \u001b[1m72s\u001b[0m 24ms/step - accuracy: 0.7227 - loss: 1.1055\n",
      "Epoch 90/100\n",
      "\u001b[1m3057/3057\u001b[0m \u001b[32m━━━━━━━━━━━━━━━━━━━━\u001b[0m\u001b[37m\u001b[0m \u001b[1m88s\u001b[0m 29ms/step - accuracy: 0.7229 - loss: 1.0943\n",
      "Epoch 93/100\n",
      "\u001b[1m3057/3057\u001b[0m \u001b[32m━━━━━━━━━━━━━━━━━━━━\u001b[0m\u001b[37m\u001b[0m \u001b[1m83s\u001b[0m 27ms/step - accuracy: 0.7293 - loss: 1.0766\n",
      "Epoch 96/100\n",
      "\u001b[1m3057/3057\u001b[0m \u001b[32m━━━━━━━━━━━━━━━━━━━━\u001b[0m\u001b[37m\u001b[0m \u001b[1m85s\u001b[0m 28ms/step - accuracy: 0.7257 - loss: 1.0829\n",
      "Epoch 97/100\n",
      "\u001b[1m3057/3057\u001b[0m \u001b[32m━━━━━━━━━━━━━━━━━━━━\u001b[0m\u001b[37m\u001b[0m \u001b[1m82s\u001b[0m 27ms/step - accuracy: 0.7291 - loss: 1.0793\n",
      "Epoch 99/100\n",
      "\u001b[1m3057/3057\u001b[0m \u001b[32m━━━━━━━━━━━━━━━━━━━━\u001b[0m\u001b[37m\u001b[0m \u001b[1m74s\u001b[0m 24ms/step - accuracy: 0.7312 - loss: 1.0617\n",
      "Epoch 100/100\n",
      "\u001b[1m3057/3057\u001b[0m \u001b[32m━━━━━━━━━━━━━━━━━━━━\u001b[0m\u001b[37m\u001b[0m \u001b[1m74s\u001b[0m 24ms/step - accuracy: 0.7278 - loss: 1.0771\n"
     ]
    },
    {
     "name": "stderr",
     "output_type": "stream",
     "text": [
      "WARNING:absl:You are saving your model as an HDF5 file via `model.save()` or `keras.saving.save_model(model)`. This file format is considered legacy. We recommend using instead the native Keras format, e.g. `model.save('my_model.keras')` or `keras.saving.save_model(model, 'my_model.keras')`. \n"
     ]
    }
   ],
   "source": [
    "from tensorflow.keras.layers import Embedding,Dropout\n",
    "# Split the input and target\n",
    "X, y = input_sequences[:,:-1], input_sequences[:,-1]\n",
    "# Convert labels to categorical (one-hot encoded)\n",
    "y = tf.keras.utils.to_categorical(y, num_classes=total_words)\n",
    "# Define the model\n",
    "model = Sequential()\n",
    "model.add(Embedding(total_words, 100, input_length=max_sequence_len-1))\n",
    "model.add(LSTM(150))\n",
    "model.add(Dropout(0.2))\n",
    "model.add(Dense(total_words, activation='softmax'))\n",
    "# Compile the model\n",
    "model.compile(loss='categorical_crossentropy', optimizer='adam', metrics=['accuracy'])\n",
    "# Train the model\n",
    "history = model.fit(X, y, epochs=100, verbose=1)\n",
    "# Save the model\n",
    "model.save('next_word_prediction_model.h5')"
   ]
  },
  {
   "cell_type": "code",
   "execution_count": 9,
   "id": "1c9a9e89-1aaf-4e57-9104-79a485b3dab5",
   "metadata": {},
   "outputs": [
    {
     "name": "stdout",
     "output_type": "stream",
     "text": [
      "Predicted next word: that\n"
     ]
    }
   ],
   "source": [
    "# Function to predict the next word\n",
    "def predict_next_word(model, tokenizer, text_seq, max_sequence_len):\n",
    "    token_list = tokenizer.texts_to_sequences([text_seq])[0]\n",
    "    token_list = pad_sequences([token_list], maxlen=max_sequence_len-1, padding='pre')\n",
    "    predicted = model.predict(token_list, verbose=0)\n",
    "    predicted_word_index = np.argmax(predicted, axis=1)[0]\n",
    "    \n",
    "    for word, index in tokenizer.word_index.items():\n",
    "        if index == predicted_word_index:\n",
    "            return word\n",
    "# Example usage:\n",
    "seed_text = \"Once upon a time\"\n",
    "next_word = predict_next_word(model, tokenizer, seed_text, max_sequence_len)\n",
    "print(f\"Predicted next word: {next_word}\")"
   ]
  },
  {
   "cell_type": "code",
   "execution_count": 20,
   "id": "45cc67a6-07c7-4b5f-a258-a24bc1f96b18",
   "metadata": {},
   "outputs": [
    {
     "name": "stdout",
     "output_type": "stream",
     "text": [
      "Predicted next word: in\n"
     ]
    }
   ],
   "source": [
    "from keras.preprocessing.sequence import pad_sequences\n",
    "# Function to predict the next word\n",
    "def predict_next_word(model, tokenizer, text_seq, max_sequence_len):\n",
    "    # Convert the text sequence to tokens\n",
    "    token_list = tokenizer.texts_to_sequences([text_seq])[0]\n",
    "    # Pad the sequence to match the expected input length\n",
    "    token_list = pad_sequences([token_list], maxlen=max_sequence_len-1, padding='pre')\n",
    "    # Predict the next word\n",
    "    predicted = model.predict(token_list, verbose=0)\n",
    "    predicted_word_index = np.argmax(predicted, axis=1)[0]\n",
    "    # Find the word corresponding to the predicted index\n",
    "    for word, index in tokenizer.word_index.items():\n",
    "        if index == predicted_word_index:\n",
    "            return word\n",
    "    return \"Unknown\"  # Return a fallback if no word is found\n",
    "# Example usage:\n",
    "seed_text = \"Once upon a time\"\n",
    "next_word = predict_next_word(model, tokenizer, seed_text, max_sequence_len)\n",
    "print(f\"Predicted next word: {next_word}\")"
   ]
  },
  {
   "cell_type": "code",
   "execution_count": null,
   "id": "6a8ebd71-b7bc-44b8-939f-e7e679bd510e",
   "metadata": {},
   "outputs": [],
   "source": []
  }
 ],
 "metadata": {
  "kernelspec": {
   "display_name": "Python 3 (ipykernel)",
   "language": "python",
   "name": "python3"
  },
  "language_info": {
   "codemirror_mode": {
    "name": "ipython",
    "version": 3
   },
   "file_extension": ".py",
   "mimetype": "text/x-python",
   "name": "python",
   "nbconvert_exporter": "python",
   "pygments_lexer": "ipython3",
   "version": "3.12.4"
  }
 },
 "nbformat": 4,
 "nbformat_minor": 5
}
